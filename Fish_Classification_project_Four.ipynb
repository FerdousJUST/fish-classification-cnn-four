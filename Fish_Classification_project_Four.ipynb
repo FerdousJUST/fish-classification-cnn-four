{
  "nbformat": 4,
  "nbformat_minor": 0,
  "metadata": {
    "colab": {
      "provenance": [],
      "mount_file_id": "19hZ2ehWqORoT6wKQ-A9TxjCPxDchslwQ",
      "authorship_tag": "ABX9TyPBjUY4lj1s98KfP8ZKAt4z",
      "include_colab_link": true
    },
    "kernelspec": {
      "name": "python3",
      "display_name": "Python 3"
    },
    "language_info": {
      "name": "python"
    },
    "gpuClass": "standard"
  },
  "cells": [
    {
      "cell_type": "markdown",
      "metadata": {
        "id": "view-in-github",
        "colab_type": "text"
      },
      "source": [
        "<a href=\"https://colab.research.google.com/github/FerdousJUST/fish-classification-cnn-four/blob/main/Fish_Classification_project_Four.ipynb\" target=\"_parent\"><img src=\"https://colab.research.google.com/assets/colab-badge.svg\" alt=\"Open In Colab\"/></a>"
      ]
    },
    {
      "cell_type": "code",
      "execution_count": 19,
      "metadata": {
        "id": "61ItbkkchgDa"
      },
      "outputs": [],
      "source": [
        "import os\n",
        "import numpy as np\n",
        "import pandas as pd\n",
        "import matplotlib.pyplot as plt\n",
        "import cv2\n",
        "import imageio\n",
        "import pathlib\n",
        "%matplotlib inline\n",
        "import tensorflow as tf\n",
        "from tensorflow import keras\n",
        "from tensorflow.keras import layers"
      ]
    },
    {
      "cell_type": "code",
      "source": [
        "import tensorflow as tf\n",
        "tf.test.gpu_device_name()"
      ],
      "metadata": {
        "colab": {
          "base_uri": "https://localhost:8080/",
          "height": 35
        },
        "id": "tntgzgHr5cT3",
        "outputId": "be168822-0304-429b-c154-b028e29dac67"
      },
      "execution_count": 3,
      "outputs": [
        {
          "output_type": "execute_result",
          "data": {
            "text/plain": [
              "''"
            ],
            "application/vnd.google.colaboratory.intrinsic+json": {
              "type": "string"
            }
          },
          "metadata": {},
          "execution_count": 3
        }
      ]
    },
    {
      "cell_type": "code",
      "source": [
        "from keras.preprocessing.image import ImageDataGenerator\n",
        "rescaled = ImageDataGenerator(1/255)\n",
        "train_fed = rescaled.flow_from_directory(\n",
        "    '/content/drive/Shareddrives/Research Collaboration/Image_Classification_Dataset/Training',\n",
        "                                target_size=(128,128),batch_size=32,class_mode= 'categorical') \n",
        "test_fed = rescaled.flow_from_directory(\n",
        "    '/content/drive/Shareddrives/Research Collaboration/Image_Classification_Dataset/Validation',\n",
        "                                target_size=(128,128),batch_size=32,class_mode= 'categorical')"
      ],
      "metadata": {
        "colab": {
          "base_uri": "https://localhost:8080/"
        },
        "id": "ulvzQWZp5cNE",
        "outputId": "21e07020-b1b9-4a46-8668-96efc557add5"
      },
      "execution_count": 4,
      "outputs": [
        {
          "output_type": "stream",
          "name": "stdout",
          "text": [
            "Found 4800 images belonging to 4 classes.\n",
            "Found 1200 images belonging to 4 classes.\n"
          ]
        }
      ]
    },
    {
      "cell_type": "code",
      "source": [
        "from tensorflow.keras.layers import Input,Flatten,Dense\n",
        "from tensorflow.keras.models import Model\n",
        "from tensorflow.keras.models import Sequential"
      ],
      "metadata": {
        "id": "bXiuJEd65cGv"
      },
      "execution_count": 5,
      "outputs": []
    },
    {
      "cell_type": "code",
      "source": [
        "model = tf.keras.models.Sequential([tf.keras.layers.Conv2D(16,padding='same',dilation_rate=(1, 1),\n",
        "                                    kernel_size=(3,3),activation = 'relu',input_shape = (128,128,3)),\n",
        "                                    tf.keras.layers.MaxPool2D(2,2), \n",
        "                                    \n",
        "                                    tf.keras.layers.Conv2D(32,padding='same',dilation_rate=(1, 1),\n",
        "                                    kernel_size=(3,3),activation = 'relu'),\n",
        "                                    tf.keras.layers.MaxPool2D(2,2), \n",
        "\n",
        "                                    tf.keras.layers.Conv2D(64,padding='same',dilation_rate=(1, 1),\n",
        "                                    kernel_size=(3,3),activation = 'relu'),\n",
        "                                    tf.keras.layers.MaxPool2D(2,2), \n",
        "\n",
        "                                    tf.keras.layers.Conv2D(128,padding='same',dilation_rate=(1, 1),\n",
        "                                    kernel_size=(3,3),activation = 'relu'),\n",
        "                                    tf.keras.layers.MaxPool2D(2,2),\n",
        "\n",
        "                                    tf.keras.layers.Conv2D(256,padding='same',dilation_rate=(1, 1),\n",
        "                                    kernel_size=(3,3),activation = 'relu'),\n",
        "                                    tf.keras.layers.MaxPool2D(2,2),                                  \n",
        "\n",
        "                                    tf.keras.layers.Flatten(),\n",
        "\n",
        "                                    tf.keras.layers.Dense(512,activation = 'relu'),\n",
        "                                    tf.keras.layers.Dropout(0.3),\n",
        "                                    tf.keras.layers.Dense(4,activation = 'softmax')\n",
        "                                    ])"
      ],
      "metadata": {
        "id": "Ekk-woNV5cCu"
      },
      "execution_count": 6,
      "outputs": []
    },
    {
      "cell_type": "code",
      "source": [
        "model.summary()"
      ],
      "metadata": {
        "colab": {
          "base_uri": "https://localhost:8080/"
        },
        "id": "WUuuRb7D5bYz",
        "outputId": "d14bb367-c125-460a-a05d-0030b84c1b84"
      },
      "execution_count": 8,
      "outputs": [
        {
          "output_type": "stream",
          "name": "stdout",
          "text": [
            "Model: \"sequential\"\n",
            "_________________________________________________________________\n",
            " Layer (type)                Output Shape              Param #   \n",
            "=================================================================\n",
            " conv2d (Conv2D)             (None, 128, 128, 16)      448       \n",
            "                                                                 \n",
            " max_pooling2d (MaxPooling2D  (None, 64, 64, 16)       0         \n",
            " )                                                               \n",
            "                                                                 \n",
            " conv2d_1 (Conv2D)           (None, 64, 64, 32)        4640      \n",
            "                                                                 \n",
            " max_pooling2d_1 (MaxPooling  (None, 32, 32, 32)       0         \n",
            " 2D)                                                             \n",
            "                                                                 \n",
            " conv2d_2 (Conv2D)           (None, 32, 32, 64)        18496     \n",
            "                                                                 \n",
            " max_pooling2d_2 (MaxPooling  (None, 16, 16, 64)       0         \n",
            " 2D)                                                             \n",
            "                                                                 \n",
            " conv2d_3 (Conv2D)           (None, 16, 16, 128)       73856     \n",
            "                                                                 \n",
            " max_pooling2d_3 (MaxPooling  (None, 8, 8, 128)        0         \n",
            " 2D)                                                             \n",
            "                                                                 \n",
            " conv2d_4 (Conv2D)           (None, 8, 8, 256)         295168    \n",
            "                                                                 \n",
            " max_pooling2d_4 (MaxPooling  (None, 4, 4, 256)        0         \n",
            " 2D)                                                             \n",
            "                                                                 \n",
            " flatten (Flatten)           (None, 4096)              0         \n",
            "                                                                 \n",
            " dense (Dense)               (None, 512)               2097664   \n",
            "                                                                 \n",
            " dropout (Dropout)           (None, 512)               0         \n",
            "                                                                 \n",
            " dense_1 (Dense)             (None, 4)                 2052      \n",
            "                                                                 \n",
            "=================================================================\n",
            "Total params: 2,492,324\n",
            "Trainable params: 2,492,324\n",
            "Non-trainable params: 0\n",
            "_________________________________________________________________\n"
          ]
        }
      ]
    },
    {
      "cell_type": "code",
      "source": [
        "from tensorflow.keras.optimizers import Adam\n",
        "opt = tf.keras.optimizers.Adam(learning_rate=0.0001)\n",
        "model.compile(loss = 'categorical_crossentropy',\n",
        "              #optimizer = 'Adam',\n",
        "              optimizer = opt,\n",
        "              metrics = ['accuracy'])"
      ],
      "metadata": {
        "id": "ICWBVHV_5rPC"
      },
      "execution_count": 9,
      "outputs": []
    },
    {
      "cell_type": "code",
      "source": [
        "from keras.callbacks import EarlyStopping,ModelCheckpoint,ReduceLROnPlateau\n",
        "import h5py"
      ],
      "metadata": {
        "id": "vgJYm_UZ5rJy"
      },
      "execution_count": 10,
      "outputs": []
    },
    {
      "cell_type": "code",
      "source": [
        "erl_stop = EarlyStopping(monitor = 'val_loss',patience = 3,restore_best_weights=True)\n",
        "mod_chk = ModelCheckpoint(\n",
        "    filepath='/content/drive/Shareddrives/Research Collaboration/Ferdous MSc Project/part four/my_model_four.hdf5',\n",
        "                          monitor = 'val_loss',save_best_only = True)\n",
        "lr_rate = ReduceLROnPlateau(monitor = 'val_loss',patience = 3,factor = 0.1)"
      ],
      "metadata": {
        "id": "f_TYYCns5rFl"
      },
      "execution_count": 11,
      "outputs": []
    },
    {
      "cell_type": "code",
      "source": [
        "hist = model.fit_generator(train_fed, shuffle = True, epochs=10, validation_data=test_fed,\n",
        "                           callbacks = [erl_stop,mod_chk,lr_rate],verbose = 2\n",
        "                           )"
      ],
      "metadata": {
        "colab": {
          "base_uri": "https://localhost:8080/"
        },
        "id": "8UtGU5Fy5rA4",
        "outputId": "259352ae-8e0c-472e-c4e8-d3c6340b8918"
      },
      "execution_count": 13,
      "outputs": [
        {
          "metadata": {
            "tags": null
          },
          "name": "stderr",
          "output_type": "stream",
          "text": [
            "<ipython-input-13-da3407ffa4b4>:1: UserWarning: `Model.fit_generator` is deprecated and will be removed in a future version. Please use `Model.fit`, which supports generators.\n",
            "  hist = model.fit_generator(train_fed, shuffle = True, epochs=10, validation_data=test_fed,\n",
            "/usr/local/lib/python3.8/dist-packages/keras/preprocessing/image.py:1663: UserWarning: This ImageDataGenerator specifies `featurewise_center`, but it hasn't been fit on any training data. Fit it first by calling `.fit(numpy_data)`.\n",
            "  warnings.warn('This ImageDataGenerator specifies '\n"
          ]
        },
        {
          "output_type": "stream",
          "name": "stdout",
          "text": [
            "Epoch 1/10\n",
            "150/150 - 1591s - loss: 3.8061 - accuracy: 0.5294 - val_loss: 0.7584 - val_accuracy: 0.6967 - lr: 1.0000e-04 - 1591s/epoch - 11s/step\n",
            "Epoch 2/10\n",
            "150/150 - 153s - loss: 0.6373 - accuracy: 0.7513 - val_loss: 0.6546 - val_accuracy: 0.7242 - lr: 1.0000e-04 - 153s/epoch - 1s/step\n",
            "Epoch 3/10\n",
            "150/150 - 153s - loss: 0.4882 - accuracy: 0.8177 - val_loss: 0.4765 - val_accuracy: 0.8225 - lr: 1.0000e-04 - 153s/epoch - 1s/step\n",
            "Epoch 4/10\n",
            "150/150 - 153s - loss: 0.3748 - accuracy: 0.8592 - val_loss: 0.3790 - val_accuracy: 0.8608 - lr: 1.0000e-04 - 153s/epoch - 1s/step\n",
            "Epoch 5/10\n",
            "150/150 - 151s - loss: 0.3078 - accuracy: 0.8842 - val_loss: 0.2873 - val_accuracy: 0.9008 - lr: 1.0000e-04 - 151s/epoch - 1s/step\n",
            "Epoch 6/10\n",
            "150/150 - 152s - loss: 0.2475 - accuracy: 0.9092 - val_loss: 0.2049 - val_accuracy: 0.9233 - lr: 1.0000e-04 - 152s/epoch - 1s/step\n",
            "Epoch 7/10\n",
            "150/150 - 154s - loss: 0.1921 - accuracy: 0.9319 - val_loss: 0.2210 - val_accuracy: 0.9100 - lr: 1.0000e-04 - 154s/epoch - 1s/step\n",
            "Epoch 8/10\n",
            "150/150 - 153s - loss: 0.1397 - accuracy: 0.9510 - val_loss: 0.2381 - val_accuracy: 0.9017 - lr: 1.0000e-04 - 153s/epoch - 1s/step\n",
            "Epoch 9/10\n",
            "150/150 - 151s - loss: 0.1156 - accuracy: 0.9617 - val_loss: 0.2130 - val_accuracy: 0.9158 - lr: 1.0000e-04 - 151s/epoch - 1s/step\n"
          ]
        }
      ]
    },
    {
      "cell_type": "code",
      "source": [
        "plt.plot(hist.history['loss'],'b-o',color = 'blue',label = 'train',linewidth=3.0)\n",
        "plt.plot(hist.history['val_loss'],'b-o',color = 'orange',label = 'train',linewidth=3.0)\n",
        "plt.grid(True)\n",
        "epochs = range(1,10)\n",
        "#plt.legend(['loss', 'val_loss'], loc='upper right')\n",
        "plt.legend(['train loss', 'test val_loss'], loc='upper right')\n",
        "plt.title(\"Train & Test loss with epochs\\n\",fontsize = 16)\n",
        "plt.xlabel(\"Training Epochs\",fontsize= 12)\n",
        "plt.ylabel(\"Train & Test loss\",fontsize =12)\n",
        "plt.show()"
      ],
      "metadata": {
        "id": "Y7jY9Pyc5qzx",
        "colab": {
          "base_uri": "https://localhost:8080/",
          "height": 318
        },
        "outputId": "b3ed2f2f-eaf7-4d3e-b7e1-dacda74ac6bb"
      },
      "execution_count": 41,
      "outputs": [
        {
          "output_type": "display_data",
          "data": {
            "text/plain": [
              "<Figure size 432x288 with 1 Axes>"
            ],
            "image/png": "[encoded data removed]"
          },
          "metadata": {
            "needs_background": "light"
          }
        }
      ]
    },
    {
      "cell_type": "code",
      "source": [
        "plt.plot(hist.history['accuracy'],'b-o',color = 'blue',label = 'train',linewidth=3.0)\n",
        "plt.plot(hist.history['val_accuracy'],'b-o',color = 'orange',label = 'train',linewidth=3.0)\n",
        "plt.grid(True)\n",
        "epochs = range(1,10)\n",
        "#plt.legend(['loss', 'val_loss'], loc='upper right')\n",
        "plt.legend(['train accuracy', 'test accuracy'], loc='lower right')\n",
        "plt.title(\"Train & Test accuracy with epochs\\n\",fontsize = 16)\n",
        "plt.xlabel(\"Training Epochs\",fontsize= 12)\n",
        "plt.ylabel(\"Train & Test accuracy\",fontsize =12)\n",
        "plt.show()"
      ],
      "metadata": {
        "id": "pn16MSsO6JoL",
        "colab": {
          "base_uri": "https://localhost:8080/",
          "height": 318
        },
        "outputId": "13acf88d-5073-4cff-ae01-394673b78736"
      },
      "execution_count": 42,
      "outputs": [
        {
          "output_type": "display_data",
          "data": {
            "text/plain": [
              "<Figure size 432x288 with 1 Axes>"
            ],
            "image/png": "[encoded data removed]"
          },
          "metadata": {
            "needs_background": "light"
          }
        }
      ]
    },
    {
      "cell_type": "code",
      "source": [
        "acc = model.evaluate(test_fed,steps = len(test_fed),verbose = 2)\n",
        "print('%.2f'%(acc[1]*100))"
      ],
      "metadata": {
        "id": "Hv3Jix1R6Jh3",
        "colab": {
          "base_uri": "https://localhost:8080/"
        },
        "outputId": "46482495-32e9-4e26-cfad-7c57f0094993"
      },
      "execution_count": 21,
      "outputs": [
        {
          "output_type": "stream",
          "name": "stderr",
          "text": [
            "/usr/local/lib/python3.8/dist-packages/keras/preprocessing/image.py:1663: UserWarning: This ImageDataGenerator specifies `featurewise_center`, but it hasn't been fit on any training data. Fit it first by calling `.fit(numpy_data)`.\n",
            "  warnings.warn('This ImageDataGenerator specifies '\n"
          ]
        },
        {
          "output_type": "stream",
          "name": "stdout",
          "text": [
            "38/38 - 16s - loss: 0.2049 - accuracy: 0.9233 - 16s/epoch - 416ms/step\n",
            "92.33\n"
          ]
        }
      ]
    },
    {
      "cell_type": "code",
      "source": [],
      "metadata": {
        "id": "FfmEBShA6JdH"
      },
      "execution_count": null,
      "outputs": []
    },
    {
      "cell_type": "code",
      "source": [],
      "metadata": {
        "id": "gVDZtcn76JN6"
      },
      "execution_count": null,
      "outputs": []
    }
  ]
}